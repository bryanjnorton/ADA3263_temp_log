{
 "cells": [
  {
   "cell_type": "code",
   "execution_count": 27,
   "metadata": {},
   "outputs": [
    {
     "name": "stdout",
     "output_type": "stream",
     "text": [
      "Connecting to arduino on /dev/ttyACM3... done.\n",
      "('my_name_is', ['Temp logger'], 1610683977.3979352)\n"
     ]
    }
   ],
   "source": [
    "#from tqdm import tqdm\n",
    "from time import sleep\n",
    "\n",
    "import os\n",
    "import numpy as np\n",
    "#import matplotlib.pyplot as plt\n",
    "from IPython.display import display, clear_output\n",
    "\n",
    "\n",
    "stream = os.popen(' ls -l /dev/serial/by-id | grep Arduino_LLC_Arduino_Leonardo')\n",
    "output = stream.read()\n",
    "device_id=output.split(\" -> ../../\",1)[1] \n",
    "import PyCmdMessenger\n",
    "arduino = PyCmdMessenger.ArduinoBoard(\"/dev/\"+device_id.rstrip('\\n'),baud_rate=9600)\n",
    "commands = [\n",
    "            [\"who_are_you\",\"\"],\n",
    "            [\"my_name_is\",\"s\"],\n",
    "    \n",
    "            [\"get_probe_temp\",\"\"],\n",
    "            [\"temp_is\",\"sf\"],\n",
    "    \n",
    "            [\"get_cold_junction_temp\",\"\"],\n",
    "            [\"temp_is\",\"sf\"],\n",
    "    \n",
    "            [\"error\",\"s\"]   \n",
    "           ]\n",
    "c = PyCmdMessenger.CmdMessenger(arduino,commands)\n",
    "from gpiozero import LED\n",
    "import time\n",
    "\n",
    "c.send(\"who_are_you\")\n",
    "msg = c.receive()\n",
    "print(msg)"
   ]
  },
  {
   "cell_type": "code",
   "execution_count": 28,
   "metadata": {},
   "outputs": [
    {
     "name": "stdout",
     "output_type": "stream",
     "text": [
      "('my_name_is', ['Temp logger'], 1610683980.7630892)\n"
     ]
    }
   ],
   "source": [
    "c.send(\"who_are_you\")\n",
    "msg = c.receive()\n",
    "print(msg)"
   ]
  },
  {
   "cell_type": "code",
   "execution_count": 29,
   "metadata": {},
   "outputs": [
    {
     "name": "stdout",
     "output_type": "stream",
     "text": [
      "('temp_is', ['Probe Temp (C):', 27.828125], 1610683983.4388933)\n"
     ]
    }
   ],
   "source": [
    "c.send(\"get_probe_temp\")\n",
    "msg = c.receive()\n",
    "print(msg)"
   ]
  },
  {
   "cell_type": "code",
   "execution_count": 30,
   "metadata": {},
   "outputs": [
    {
     "name": "stdout",
     "output_type": "stream",
     "text": [
      "('temp_is', ['Cold Junction Temp (C):', 27.7421875], 1610683986.3213394)\n"
     ]
    }
   ],
   "source": [
    "c.send(\"get_cold_junction_temp\")\n",
    "msg = c.receive()\n",
    "print(msg)"
   ]
  },
  {
   "cell_type": "code",
   "execution_count": null,
   "metadata": {},
   "outputs": [],
   "source": []
  }
 ],
 "metadata": {
  "kernelspec": {
   "display_name": "Python 3",
   "language": "python",
   "name": "python3"
  },
  "language_info": {
   "codemirror_mode": {
    "name": "ipython",
    "version": 3
   },
   "file_extension": ".py",
   "mimetype": "text/x-python",
   "name": "python",
   "nbconvert_exporter": "python",
   "pygments_lexer": "ipython3",
   "version": "3.7.3"
  }
 },
 "nbformat": 4,
 "nbformat_minor": 4
}
