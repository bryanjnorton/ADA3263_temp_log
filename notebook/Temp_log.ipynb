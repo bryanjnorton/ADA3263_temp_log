{
 "cells": [
  {
   "cell_type": "code",
   "execution_count": 1,
   "metadata": {},
   "outputs": [
    {
     "output_type": "stream",
     "name": "stdout",
     "text": [
      "Connecting to arduino on /dev/ttyACM3... done.\n",
      "('my_name_is', ['Temp logger'], 1610686378.607427)\n"
     ]
    }
   ],
   "source": [
    "from time import sleep\n",
    "\n",
    "import os\n",
    "import numpy as np\n",
    "#import matplotlib.pyplot as plt\n",
    "from IPython.display import display, clear_output\n",
    "\n",
    "stream = os.popen(' ls -l /dev/serial/by-id | grep Arduino_LLC_Arduino_Leonardo')\n",
    "output = stream.read()\n",
    "device_id=output.split(\" -> ../../\",1)[1] \n",
    "import PyCmdMessenger\n",
    "arduino = PyCmdMessenger.ArduinoBoard(\"/dev/\"+device_id.rstrip('\\n'),baud_rate=9600)\n",
    "commands = [\n",
    "            [\"who_are_you\",\"\"],\n",
    "            [\"my_name_is\",\"s\"],\n",
    "    \n",
    "            [\"get_probe_temp\",\"\"],\n",
    "            [\"temp_is\",\"sf\"],\n",
    "    \n",
    "            [\"get_cold_junction_temp\",\"\"],\n",
    "            [\"temp_is\",\"sf\"],\n",
    "    \n",
    "            [\"error\",\"s\"]   \n",
    "           ]\n",
    "c = PyCmdMessenger.CmdMessenger(arduino,commands)\n",
    "from gpiozero import LED\n",
    "import time\n",
    "\n",
    "c.send(\"who_are_you\")\n",
    "msg = c.receive()\n",
    "print(msg)"
   ]
  },
  {
   "cell_type": "code",
   "execution_count": 2,
   "metadata": {},
   "outputs": [
    {
     "output_type": "stream",
     "name": "stdout",
     "text": [
      "('my_name_is', ['Temp logger'], 1610686391.2553415)\n"
     ]
    }
   ],
   "source": [
    "c.send(\"who_are_you\")\n",
    "msg = c.receive()\n",
    "print(msg)"
   ]
  },
  {
   "cell_type": "code",
   "execution_count": 11,
   "metadata": {},
   "outputs": [
    {
     "output_type": "stream",
     "name": "stdout",
     "text": [
      "('temp_is', ['Probe Temp (C):', 22.15625], 1610686401.1685512)\n"
     ]
    }
   ],
   "source": [
    "c.send(\"get_probe_temp\")\n",
    "msg = c.receive()\n",
    "print(msg)"
   ]
  },
  {
   "cell_type": "code",
   "execution_count": 30,
   "metadata": {},
   "outputs": [
    {
     "name": "stdout",
     "output_type": "stream",
     "text": [
      "('temp_is', ['Cold Junction Temp (C):', 27.7421875], 1610683986.3213394)\n"
     ]
    }
   ],
   "source": [
    "c.send(\"get_cold_junction_temp\")\n",
    "msg = c.receive()\n",
    "print(msg)"
   ]
  },
  {
   "cell_type": "code",
   "execution_count": null,
   "metadata": {},
   "outputs": [],
   "source": []
  },
  {
   "cell_type": "code",
   "execution_count": 12,
   "metadata": {},
   "outputs": [
    {
     "output_type": "execute_result",
     "data": {
      "text/plain": [
       "2"
      ]
     },
     "metadata": {},
     "execution_count": 12
    }
   ],
   "source": [
    "1+1"
   ]
  },
  {
   "cell_type": "code",
   "execution_count": null,
   "metadata": {},
   "outputs": [],
   "source": []
  }
 ],
 "metadata": {
  "kernelspec": {
   "display_name": "Python 3",
   "language": "python",
   "name": "python3"
  },
  "language_info": {
   "codemirror_mode": {
    "name": "ipython",
    "version": 3
   },
   "file_extension": ".py",
   "mimetype": "text/x-python",
   "name": "python",
   "nbconvert_exporter": "python",
   "pygments_lexer": "ipython3",
   "version": "3.7.3-final"
  }
 },
 "nbformat": 4,
 "nbformat_minor": 4
}